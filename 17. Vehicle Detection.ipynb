{
 "cells": [
  {
   "cell_type": "markdown",
   "metadata": {},
   "source": [
    "# **Vehicle and Pedestrian Detection**\n",
    "\n",
    "#### **In this lesson we'll learn:**\n",
    "1. Use a Haarcascade classier to detect Pedestrians\n",
    "2. Use our Haarcascade classifiers on videos\n",
    "3. Use a Haarcascade classier to detect Vehicles or cars\n"
   ]
  },
  {
   "cell_type": "code",
   "execution_count": null,
   "metadata": {},
   "outputs": [
    {
     "ename": "",
     "evalue": "",
     "output_type": "error",
     "traceback": [
      "\u001b[1;31mFailed to start the Kernel. \n",
      "\u001b[1;31mUnable to start Kernel 'ipt (Python 3.8.10)' due to a connection timeout. \n",
      "\u001b[1;31mView Jupyter <a href='command:jupyter.viewOutput'>log</a> for further details."
     ]
    }
   ],
   "source": [
    "# Our Setup, Import Libaries, Create our Imshow Function and Download our Images\n",
    "import cv2\n",
    "import numpy as np\n",
    "from matplotlib import pyplot as plt\n",
    "\n",
    "# Define our imshow function \n",
    "def imshow(title = \"Image\", image = None, size = 10):\n",
    "    w, h = image.shape[0], image.shape[1]\n",
    "    aspect_ratio = w/h\n",
    "    plt.figure(figsize=(size * aspect_ratio,size))\n",
    "    plt.imshow(cv2.cvtColor(image, cv2.COLOR_BGR2RGB))\n",
    "    plt.title(title)\n",
    "    plt.show()"
   ]
  },
  {
   "cell_type": "markdown",
   "metadata": {},
   "source": [
    "#### **Testing on a Single Frame from our Video**"
   ]
  },
  {
   "cell_type": "code",
   "execution_count": null,
   "metadata": {},
   "outputs": [],
   "source": [
    "# Create our video capturing object\n",
    "cap = cv2.VideoCapture('videos/walking.mp4')\n",
    "\n",
    "# Load our body classifier\n",
    "body_classifier = cv2.CascadeClassifier('haarcascades/Haarcascades/haarcascade_fullbody.xml')\n",
    "\n",
    "# Read first frame\n",
    "ret, frame = cap.read()\n",
    "\n",
    "# Ret is True if successfully read\n",
    "if ret: \n",
    "\n",
    "  #Grayscale our image for faster processing\n",
    "  gray = cv2.cvtColor(frame, cv2.COLOR_BGR2GRAY)\n",
    "\n",
    "  # Pass frame to our body classifier\n",
    "  bodies = body_classifier.detectMultiScale(gray, 1.2, 3)\n",
    "\n",
    "  # Extract bounding boxes for any bodies identified\n",
    "  for (x,y,w,h) in bodies:\n",
    "      cv2.rectangle(frame, (x, y), (x+w, y+h), (0, 255, 255), 2)\n",
    "  \n",
    "# Release our video capture\n",
    "cap.release()   \n",
    "imshow(\"Pedestrian Detector\", frame)"
   ]
  },
  {
   "cell_type": "code",
   "execution_count": null,
   "metadata": {},
   "outputs": [],
   "source": []
  }
 ],
 "metadata": {
  "kernelspec": {
   "display_name": "ipt",
   "language": "python",
   "name": "python3"
  },
  "language_info": {
   "name": "python",
   "version": "3.8.10"
  }
 },
 "nbformat": 4,
 "nbformat_minor": 2
}
